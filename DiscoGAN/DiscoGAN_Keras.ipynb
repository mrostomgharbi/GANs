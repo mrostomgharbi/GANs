{
 "cells": [
  {
   "cell_type": "markdown",
   "metadata": {},
   "source": [
    "<center> <h2> DISCO GAN </h2> </center>"
   ]
  },
  {
   "cell_type": "markdown",
   "metadata": {},
   "source": [
    "In May 2017, Taeksoo Kim & al. published a way to learn discover domain relation with Generative Adversial Networks: \n",
    "https://arxiv.org/pdf/1703.05192.pdf . Let's try to implement this nice paper and get nice results."
   ]
  },
  {
   "cell_type": "markdown",
   "metadata": {},
   "source": [
    "## 1. DiscoGAN Architecture ##"
   ]
  },
  {
   "cell_type": "markdown",
   "metadata": {},
   "source": [
    "<h4> 1st architecture : </h4>"
   ]
  },
  {
   "cell_type": "markdown",
   "metadata": {},
   "source": [
    "The initial idea is to used a standard GAN architecture to transform picture from one domain to another. "
   ]
  },
  {
   "cell_type": "code",
   "execution_count": 2,
   "metadata": {},
   "outputs": [
    {
     "data": {
      "text/html": [
       "<img src=\"./gan1.png\" width=\"500\" height=\"250\"/>"
      ],
      "text/plain": [
       "<IPython.core.display.Image object>"
      ]
     },
     "execution_count": 2,
     "metadata": {},
     "output_type": "execute_result"
    }
   ],
   "source": [
    "from IPython.display import Image\n",
    "from IPython.core.display import HTML \n",
    "Image(url= \"./gan1.png\",width=500, height=250)"
   ]
  },
  {
   "cell_type": "markdown",
   "metadata": {},
   "source": [
    "Unfortunately the equality GBA ◦ GAB(xA) = xA should be satisfied, but this hard constraint is difficult to optimize. For this reason, we minimize the distance d(GBA ◦ GAB(xA),xA), where any form of metric function (L1, L2, Huber loss) can be used. "
   ]
  },
  {
   "cell_type": "markdown",
   "metadata": {},
   "source": [
    "<h4> 2nd architecture : </h4>"
   ]
  },
  {
   "cell_type": "code",
   "execution_count": 3,
   "metadata": {},
   "outputs": [
    {
     "data": {
      "text/html": [
       "<img src=\"./gan2.png\" width=\"500\" height=\"250\"/>"
      ],
      "text/plain": [
       "<IPython.core.display.Image object>"
      ]
     },
     "execution_count": 3,
     "metadata": {},
     "output_type": "execute_result"
    }
   ],
   "source": [
    "Image(url= \"./gan2.png\",width=500, height=250)"
   ]
  },
  {
   "cell_type": "markdown",
   "metadata": {},
   "source": [
    "As the application must be bijective between domain A to domain B, we also need tov minimized(GAB ◦GBA(xB),xB):"
   ]
  },
  {
   "cell_type": "markdown",
   "metadata": {},
   "source": [
    "<h4> 3rd architecture : </h4>"
   ]
  },
  {
   "cell_type": "code",
   "execution_count": 4,
   "metadata": {},
   "outputs": [
    {
     "data": {
      "text/html": [
       "<img src=\"./gan3.png\" width=\"500\" height=\"250\"/>"
      ],
      "text/plain": [
       "<IPython.core.display.Image object>"
      ]
     },
     "execution_count": 4,
     "metadata": {},
     "output_type": "execute_result"
    }
   ],
   "source": [
    "Image(url= \"./gan3.png\",width=500, height=250)"
   ]
  },
  {
   "cell_type": "markdown",
   "metadata": {},
   "source": [
    "This is the model exposed in the paper. We hence have 2 generators ($G_{AB}$ and $G_{BA}$), and two discriminators $D_A$ and $D_B$."
   ]
  },
  {
   "cell_type": "markdown",
   "metadata": {},
   "source": [
    "## 2. Implementation ##\n"
   ]
  },
  {
   "cell_type": "markdown",
   "metadata": {},
   "source": [
    "Let's build the generators. Compared to standard GAN, the generators here take a picture as input instead of random Gaussian noise z. Each generator is composed of an encoder and a decoder. The official paper implementation mentions 4 conv2 layer followed by 4 ConvTranspose2d layers, use leakyrelu for the encoder part et Relu for decoder part. What is interesting here is the latent space representation between the encoder and the decoder."
   ]
  },
  {
   "cell_type": "markdown",
   "metadata": {},
   "source": [
    "<h4> Different imports : </h4>"
   ]
  },
  {
   "cell_type": "code",
   "execution_count": 4,
   "metadata": {},
   "outputs": [
    {
     "name": "stderr",
     "output_type": "stream",
     "text": [
      "Using TensorFlow backend.\n"
     ]
    }
   ],
   "source": [
    "import cv2\n",
    "import numpy as np\n",
    "%matplotlib inline\n",
    "import matplotlib.pyplot as plt\n",
    "\n",
    "import numpy as np\n",
    "from keras.datasets import mnist\n",
    "from keras.layers import Input, Dense, Reshape, Flatten, Dropout\n",
    "from keras.layers import BatchNormalization, Activation, ZeroPadding2D\n",
    "from keras.layers.advanced_activations import LeakyReLU\n",
    "from keras.layers.convolutional import UpSampling2D, Conv2D, Conv2DTranspose\n",
    "from keras.models import Sequential, Model\n",
    "from keras.backend import resize_images\n",
    "from keras.initializers import RandomNormal\n",
    "from keras.optimizers import Adam,RMSprop\n",
    "from keras_contrib.layers.normalization.instancenormalization import InstanceNormalization"
   ]
  },
  {
   "cell_type": "code",
   "execution_count": 5,
   "metadata": {},
   "outputs": [
    {
     "name": "stdout",
     "output_type": "stream",
     "text": [
      "_________________________________________________________________\n",
      "Layer (type)                 Output Shape              Param #   \n",
      "=================================================================\n",
      "conv2d_1 (Conv2D)            (None, 64, 64, 64)        3136      \n",
      "_________________________________________________________________\n",
      "leaky_re_lu_1 (LeakyReLU)    (None, 64, 64, 64)        0         \n",
      "_________________________________________________________________\n",
      "conv2d_2 (Conv2D)            (None, 32, 32, 128)       131200    \n",
      "_________________________________________________________________\n",
      "instance_normalization_1 (In (None, 32, 32, 128)       2         \n",
      "_________________________________________________________________\n",
      "leaky_re_lu_2 (LeakyReLU)    (None, 32, 32, 128)       0         \n",
      "_________________________________________________________________\n",
      "conv2d_3 (Conv2D)            (None, 16, 16, 256)       524544    \n",
      "_________________________________________________________________\n",
      "instance_normalization_2 (In (None, 16, 16, 256)       2         \n",
      "_________________________________________________________________\n",
      "leaky_re_lu_3 (LeakyReLU)    (None, 16, 16, 256)       0         \n",
      "_________________________________________________________________\n",
      "conv2d_4 (Conv2D)            (None, 8, 8, 512)         2097664   \n",
      "_________________________________________________________________\n",
      "instance_normalization_3 (In (None, 8, 8, 512)         2         \n",
      "_________________________________________________________________\n",
      "leaky_re_lu_4 (LeakyReLU)    (None, 8, 8, 512)         0         \n",
      "_________________________________________________________________\n",
      "conv2d_5 (Conv2D)            (None, 4, 4, 512)         4194816   \n",
      "_________________________________________________________________\n",
      "instance_normalization_4 (In (None, 4, 4, 512)         2         \n",
      "_________________________________________________________________\n",
      "leaky_re_lu_5 (LeakyReLU)    (None, 4, 4, 512)         0         \n",
      "_________________________________________________________________\n",
      "conv2d_6 (Conv2D)            (None, 2, 2, 512)         4194816   \n",
      "_________________________________________________________________\n",
      "instance_normalization_5 (In (None, 2, 2, 512)         2         \n",
      "_________________________________________________________________\n",
      "leaky_re_lu_6 (LeakyReLU)    (None, 2, 2, 512)         0         \n",
      "_________________________________________________________________\n",
      "conv2d_7 (Conv2D)            (None, 1, 1, 512)         4194816   \n",
      "_________________________________________________________________\n",
      "instance_normalization_6 (In (None, 1, 1, 512)         2         \n",
      "_________________________________________________________________\n",
      "leaky_re_lu_7 (LeakyReLU)    (None, 1, 1, 512)         0         \n",
      "_________________________________________________________________\n",
      "conv2d_transpose_1 (Conv2DTr (None, 2, 2, 512)         4194816   \n",
      "_________________________________________________________________\n",
      "instance_normalization_7 (In (None, 2, 2, 512)         2         \n",
      "_________________________________________________________________\n",
      "activation_1 (Activation)    (None, 2, 2, 512)         0         \n",
      "_________________________________________________________________\n",
      "conv2d_transpose_2 (Conv2DTr (None, 4, 4, 512)         4194816   \n",
      "_________________________________________________________________\n",
      "instance_normalization_8 (In (None, 4, 4, 512)         2         \n",
      "_________________________________________________________________\n",
      "activation_2 (Activation)    (None, 4, 4, 512)         0         \n",
      "_________________________________________________________________\n",
      "conv2d_transpose_3 (Conv2DTr (None, 8, 8, 512)         4194816   \n",
      "_________________________________________________________________\n",
      "instance_normalization_9 (In (None, 8, 8, 512)         2         \n",
      "_________________________________________________________________\n",
      "activation_3 (Activation)    (None, 8, 8, 512)         0         \n",
      "_________________________________________________________________\n",
      "conv2d_transpose_4 (Conv2DTr (None, 16, 16, 256)       2097408   \n",
      "_________________________________________________________________\n",
      "instance_normalization_10 (I (None, 16, 16, 256)       2         \n",
      "_________________________________________________________________\n",
      "activation_4 (Activation)    (None, 16, 16, 256)       0         \n",
      "_________________________________________________________________\n",
      "conv2d_transpose_5 (Conv2DTr (None, 32, 32, 128)       524416    \n",
      "_________________________________________________________________\n",
      "instance_normalization_11 (I (None, 32, 32, 128)       2         \n",
      "_________________________________________________________________\n",
      "activation_5 (Activation)    (None, 32, 32, 128)       0         \n",
      "_________________________________________________________________\n",
      "conv2d_transpose_6 (Conv2DTr (None, 64, 64, 64)        131136    \n",
      "_________________________________________________________________\n",
      "instance_normalization_12 (I (None, 64, 64, 64)        2         \n",
      "_________________________________________________________________\n",
      "activation_6 (Activation)    (None, 64, 64, 64)        0         \n",
      "_________________________________________________________________\n",
      "conv2d_transpose_7 (Conv2DTr (None, 128, 128, 3)       3075      \n",
      "_________________________________________________________________\n",
      "instance_normalization_13 (I (None, 128, 128, 3)       2         \n",
      "_________________________________________________________________\n",
      "activation_7 (Activation)    (None, 128, 128, 3)       0         \n",
      "=================================================================\n",
      "Total params: 30,681,501\n",
      "Trainable params: 30,681,501\n",
      "Non-trainable params: 0\n",
      "_________________________________________________________________\n",
      "None\n"
     ]
    }
   ],
   "source": [
    "def generator():\n",
    "        \n",
    "    # Image input\n",
    "    input_pic = (128, 128,3)\n",
    "    \n",
    "    model = Sequential()\n",
    "\n",
    "    # Decoder ######\n",
    "    # d1 :\n",
    "    model.add(Conv2D(filters=64, kernel_size=(4,4), strides=(2,2), padding='same',input_shape=input_pic))\n",
    "    model.add(LeakyReLU(alpha=0.2)) #output shape 64, 64 , 64 \n",
    "    \n",
    "    # d2 :\n",
    "    model.add(Conv2D(filters=64*2, kernel_size=(4,4), strides=(2,2), padding='same',input_shape=input_pic))\n",
    "    model.add(InstanceNormalization())\n",
    "    model.add(LeakyReLU(alpha=0.2)) #output shape 32, 32 , 128 \n",
    "    \n",
    "    # d3 :\n",
    "    model.add(Conv2D(filters=64*4, kernel_size=(4,4), strides=(2,2), padding='same',input_shape=input_pic))\n",
    "    model.add(InstanceNormalization()) \n",
    "    model.add(LeakyReLU(alpha=0.2)) #output shape 16, 16 ,256 \n",
    "    \n",
    "    # d4 :\n",
    "    model.add(Conv2D(filters=64*8, kernel_size=(4,4), strides=(2,2), padding='same',input_shape=input_pic))\n",
    "    model.add(InstanceNormalization())\n",
    "    model.add(LeakyReLU(alpha=0.2))  #output shape 8, 8 , 512 \n",
    "    \n",
    "    # d5 :\n",
    "    model.add(Conv2D(filters=64*8, kernel_size=(4,4), strides=(2,2), padding='same',input_shape=input_pic))\n",
    "    model.add(InstanceNormalization())\n",
    "    model.add(LeakyReLU(alpha=0.2))  #output shape 4, 4 , 512 \n",
    "    \n",
    "    # d6 :\n",
    "    model.add(Conv2D(filters=64*8, kernel_size=(4,4), strides=(2,2), padding='same',input_shape=input_pic))\n",
    "    model.add(InstanceNormalization())\n",
    "    model.add(LeakyReLU(alpha=0.2))  #output shape 2, 2 , 512     \n",
    "    \n",
    "    # d7 :\n",
    "    model.add(Conv2D(filters=64*8, kernel_size=(4,4), strides=(2,2), padding='same',input_shape=input_pic))\n",
    "    model.add(InstanceNormalization())\n",
    "    model.add(LeakyReLU(alpha=0.2))  #output shape 1, 1 , 512     \n",
    "    \n",
    "    \n",
    "    # Encoder ######\n",
    "    model.add(Conv2DTranspose(filters=64*8, kernel_size=(4, 4), strides=(2,2), padding='same'))\n",
    "    model.add(InstanceNormalization())\n",
    "    model.add(Activation('relu'))   #output shape 2, 2 , 512 \n",
    "    \n",
    "    model.add(Conv2DTranspose(filters=64*8, kernel_size=(4, 4), strides=(2,2), padding='same'))\n",
    "    model.add(InstanceNormalization())\n",
    "    model.add(Activation('relu'))   #output shape 4, 4 , 512 \n",
    "    \n",
    "    model.add(Conv2DTranspose(filters=64*8, kernel_size=(4, 4), strides=(2,2), padding='same'))\n",
    "    model.add(InstanceNormalization())\n",
    "    model.add(Activation('relu'))   #output shape 8, 8 , 512 \n",
    "    \n",
    "    model.add(Conv2DTranspose(filters=64*4, kernel_size=(4, 4), strides=(2,2), padding='same'))\n",
    "    model.add(InstanceNormalization())\n",
    "    model.add(Activation('relu'))  #output shape 16, 16 , 256 \n",
    "    \n",
    "    model.add(Conv2DTranspose(filters=64*2, kernel_size=(4, 4), strides=(2,2), padding='same'))\n",
    "    model.add(InstanceNormalization())\n",
    "    model.add(Activation('relu')) #output shape 32, 32 , 128\n",
    "    \n",
    "    model.add(Conv2DTranspose(filters=64, kernel_size=(4, 4), strides=(2,2), padding='same'))\n",
    "    model.add(InstanceNormalization())\n",
    "    model.add(Activation('relu')) #output shape 64, 64 , 64\n",
    "    \n",
    "    model.add(Conv2DTranspose(filters=3, kernel_size=(4, 4), strides=(2,2), padding='same'))\n",
    "    model.add(InstanceNormalization())\n",
    "    model.add(Activation('tanh')) #output shape 128, 128 , 3 \n",
    "    \n",
    "    return model\n",
    "\n",
    "a = generator()\n",
    "print(a.summary())"
   ]
  },
  {
   "cell_type": "code",
   "execution_count": 6,
   "metadata": {
    "scrolled": true
   },
   "outputs": [
    {
     "name": "stdout",
     "output_type": "stream",
     "text": [
      "_________________________________________________________________\n",
      "Layer (type)                 Output Shape              Param #   \n",
      "=================================================================\n",
      "conv2d_8 (Conv2D)            (None, 64, 64, 64)        3136      \n",
      "_________________________________________________________________\n",
      "leaky_re_lu_8 (LeakyReLU)    (None, 64, 64, 64)        0         \n",
      "_________________________________________________________________\n",
      "conv2d_9 (Conv2D)            (None, 32, 32, 128)       131200    \n",
      "_________________________________________________________________\n",
      "instance_normalization_14 (I (None, 32, 32, 128)       2         \n",
      "_________________________________________________________________\n",
      "leaky_re_lu_9 (LeakyReLU)    (None, 32, 32, 128)       0         \n",
      "_________________________________________________________________\n",
      "conv2d_10 (Conv2D)           (None, 16, 16, 256)       524544    \n",
      "_________________________________________________________________\n",
      "instance_normalization_15 (I (None, 16, 16, 256)       2         \n",
      "_________________________________________________________________\n",
      "leaky_re_lu_10 (LeakyReLU)   (None, 16, 16, 256)       0         \n",
      "_________________________________________________________________\n",
      "conv2d_11 (Conv2D)           (None, 8, 8, 512)         2097664   \n",
      "_________________________________________________________________\n",
      "instance_normalization_16 (I (None, 8, 8, 512)         2         \n",
      "_________________________________________________________________\n",
      "leaky_re_lu_11 (LeakyReLU)   (None, 8, 8, 512)         0         \n",
      "_________________________________________________________________\n",
      "conv2d_12 (Conv2D)           (None, 8, 8, 1)           8193      \n",
      "=================================================================\n",
      "Total params: 2,764,743\n",
      "Trainable params: 2,764,743\n",
      "Non-trainable params: 0\n",
      "_________________________________________________________________\n",
      "None\n"
     ]
    }
   ],
   "source": [
    "def discriminator():\n",
    "    \n",
    "    in_shape = (128, 128,3)\n",
    "    \n",
    "    model = Sequential()\n",
    "    \n",
    "    model.add(Conv2D(filters=64, kernel_size=(4, 4), strides=(2,2), padding='same',input_shape=in_shape))\n",
    "    model.add(LeakyReLU(alpha=0.2))\n",
    "    \n",
    "    model.add(Conv2D(filters=64*2, kernel_size=(4, 4), strides=(2,2), padding='same'))\n",
    "    model.add(InstanceNormalization())\n",
    "    model.add(LeakyReLU(alpha=0.2))\n",
    "    \n",
    "    model.add(Conv2D(filters=64*4, kernel_size=(4, 4), strides=(2,2), padding='same'))\n",
    "    model.add(InstanceNormalization())\n",
    "    model.add(LeakyReLU(alpha=0.2))\n",
    "    \n",
    "    model.add(Conv2D(filters=64*8, kernel_size=(4, 4), strides=(2,2), padding='same'))\n",
    "    model.add(InstanceNormalization())\n",
    "    model.add(LeakyReLU(alpha=0.2))\n",
    "    \n",
    "    model.add(Conv2D(filters=1, kernel_size=(4, 4), strides=(1,1), padding='same'))\n",
    "\n",
    "    return model\n",
    "\n",
    "b = discriminator()\n",
    "print(b.summary())"
   ]
  },
  {
   "cell_type": "markdown",
   "metadata": {},
   "source": [
    "## 3. Train ##\n",
    "### 3.1 Single iteration ###"
   ]
  },
  {
   "cell_type": "markdown",
   "metadata": {},
   "source": [
    "Let's train the model on only one batch, just to make things clear. We are going to use the edge to shoes dataset for now."
   ]
  },
  {
   "cell_type": "markdown",
   "metadata": {},
   "source": [
    "This data set can be downloaded here : https://www.kaggle.com/vikramtiwari/pix2pix-dataset"
   ]
  },
  {
   "cell_type": "markdown",
   "metadata": {},
   "source": [
    "Picture inside shoes dataset are 512x256 with both edge and full picture. We need first to dissociate this picture in two pictures of size 128x128."
   ]
  },
  {
   "cell_type": "code",
   "execution_count": 8,
   "metadata": {},
   "outputs": [],
   "source": [
    "def read_picture(filename,img_out_size= 128):\n",
    "    image = cv2.imread(filename)\n",
    "    \n",
    "    if image is None:\n",
    "        assert(\"error reading picture\")\n",
    "    \n",
    "    imageA = image[:, :256, :]\n",
    "    imageB = image[:, 256:, :]\n",
    "\n",
    "    imageA = cv2.resize(imageA, (img_out_size,img_out_size))\n",
    "    imageB = cv2.resize(imageB, (img_out_size,img_out_size))\n",
    "    \n",
    "    return imageA,imageB"
   ]
  },
  {
   "cell_type": "code",
   "execution_count": 9,
   "metadata": {},
   "outputs": [
    {
     "data": {
      "text/plain": [
       "<matplotlib.image.AxesImage at 0x7feefda686d8>"
      ]
     },
     "execution_count": 9,
     "metadata": {},
     "output_type": "execute_result"
    },
    {
     "data": {
      "image/png": "[encoded data removed]",
      "text/plain": [
       "<Figure size 432x288 with 2 Axes>"
      ]
     },
     "metadata": {
      "needs_background": "light"
     },
     "output_type": "display_data"
    }
   ],
   "source": [
    "X,Y = read_picture('datasets/edges2shoes/train/605_AB.jpg')\n",
    "\n",
    "plt.subplot(1, 2, 1)\n",
    "plt.imshow(X)\n",
    "plt.subplot(1, 2, 2)\n",
    "plt.imshow(Y)"
   ]
  },
  {
   "cell_type": "markdown",
   "metadata": {},
   "source": [
    "We will also need to normalize the pictures for the training. It will be between [0 1]. "
   ]
  },
  {
   "cell_type": "code",
   "execution_count": 10,
   "metadata": {},
   "outputs": [],
   "source": [
    "def normalize_picture(img):\n",
    "    # The data is currently in a range [0, 255].\n",
    "    # Transform data to have a range [0, 1].\n",
    "    img = img / 127.5 - 1\n",
    "    return img"
   ]
  },
  {
   "cell_type": "code",
   "execution_count": 11,
   "metadata": {},
   "outputs": [],
   "source": [
    "X = normalize_picture(X)\n",
    "Y = normalize_picture(Y)"
   ]
  },
  {
   "cell_type": "markdown",
   "metadata": {},
   "source": [
    "Ok, we have two picture, one from domain A, and one from domain B. We need a function that will create the batch:"
   ]
  },
  {
   "cell_type": "code",
   "execution_count": 12,
   "metadata": {},
   "outputs": [],
   "source": [
    "def batch_creation(batch_size,batch_idx):\n",
    "    # get 64 pictures from the files\n",
    "    process_batchA = []\n",
    "    process_batchB = []\n",
    "    current_pic = data[batch_idx*batch_size:batch_idx*batch_size+batch_size]\n",
    "    \n",
    "    #print(current_pic)\n",
    "    # call read picture\n",
    "    for i in range(len(current_pic)):\n",
    "        filename = os.path.join(image_paths, current_pic[i])\n",
    "        A,B = read_picture(filename)\n",
    "        # normalize picture\n",
    "        A = normalize_picture(A)\n",
    "        B = normalize_picture(B)\n",
    "        #append 2 pic in a list\n",
    "        process_batchA.append(A)\n",
    "        process_batchB.append(B)\n",
    "    \n",
    "    return process_batchA, process_batchB"
   ]
  },
  {
   "cell_type": "code",
   "execution_count": 13,
   "metadata": {},
   "outputs": [
    {
     "name": "stdout",
     "output_type": "stream",
     "text": [
      "(64, 128, 128, 3)\n",
      "49825\n"
     ]
    }
   ],
   "source": [
    "import os,fnmatch\n",
    "\n",
    "image_paths = \"./datasets/edges2shoes/train\"\n",
    "data = fnmatch.filter(os.listdir(image_paths), '*.jpg')\n",
    "        \n",
    "batch_size = 64\n",
    "batchA, batchB = batch_creation(batch_size,0)\n",
    "batchA = np.asarray(batchA)\n",
    "batchB = np.asarray(batchB)\n",
    "print(batchA.shape)\n",
    "print(len(data))"
   ]
  },
  {
   "cell_type": "markdown",
   "metadata": {},
   "source": [
    "Let's create and compile dicriminators and generators:"
   ]
  },
  {
   "cell_type": "code",
   "execution_count": 14,
   "metadata": {},
   "outputs": [],
   "source": [
    "disc_optimizer = Adam(lr=0.0002, beta_1=0.5)\n",
    "\n",
    "discriA = discriminator()\n",
    "discriB = discriminator()\n",
    "discriA.compile(loss='mse',optimizer=disc_optimizer,metrics=['accuracy'])\n",
    "discriB.compile(loss='mse',optimizer=disc_optimizer,metrics=['accuracy'])"
   ]
  },
  {
   "cell_type": "markdown",
   "metadata": {},
   "source": [
    "Create combined model for generator:"
   ]
  },
  {
   "cell_type": "code",
   "execution_count": 15,
   "metadata": {},
   "outputs": [
    {
     "name": "stdout",
     "output_type": "stream",
     "text": [
      "__________________________________________________________________________________________________\n",
      "Layer (type)                    Output Shape         Param #     Connected to                     \n",
      "==================================================================================================\n",
      "input_2 (InputLayer)            (None, 128, 128, 3)  0                                            \n",
      "__________________________________________________________________________________________________\n",
      "input_1 (InputLayer)            (None, 128, 128, 3)  0                                            \n",
      "__________________________________________________________________________________________________\n",
      "sequential_6 (Sequential)       (None, 128, 128, 3)  30681501    input_2[0][0]                    \n",
      "                                                                 sequential_5[1][0]               \n",
      "__________________________________________________________________________________________________\n",
      "sequential_5 (Sequential)       (None, 128, 128, 3)  30681501    input_1[0][0]                    \n",
      "                                                                 sequential_6[1][0]               \n",
      "__________________________________________________________________________________________________\n",
      "sequential_3 (Sequential)       (None, 8, 8, 1)      2764743     sequential_6[1][0]               \n",
      "__________________________________________________________________________________________________\n",
      "sequential_4 (Sequential)       (None, 8, 8, 1)      2764743     sequential_5[1][0]               \n",
      "==================================================================================================\n",
      "Total params: 66,892,488\n",
      "Trainable params: 61,363,002\n",
      "Non-trainable params: 5,529,486\n",
      "__________________________________________________________________________________________________\n"
     ]
    }
   ],
   "source": [
    "gen_AB = generator()\n",
    "gen_BA = generator()\n",
    "\n",
    "# Input images(real)\n",
    "img_A = Input((128,128,3))\n",
    "img_B = Input((128,128,3))\n",
    "\n",
    "# Translate images to the other domain\n",
    "fake_B = gen_AB(img_A)\n",
    "fake_A = gen_BA(img_B)\n",
    "\n",
    "# back to original domain\n",
    "back_A = gen_BA(fake_B)\n",
    "back_B = gen_AB(fake_A)\n",
    "\n",
    "# For the combined model we will only train the generators\n",
    "discriA.trainable = False\n",
    "discriB.trainable = False\n",
    "\n",
    "# Discriminators determines validity of translated images\n",
    "valid_A = discriA(fake_A)\n",
    "valid_B = discriB(fake_B)\n",
    "\n",
    "combined = Model(inputs=[img_A, img_B],\n",
    "                              outputs=[ valid_A, valid_B,\n",
    "                                        fake_B, fake_A,\n",
    "                                        back_A, back_B ])\n",
    "combined.compile(loss=['mse', 'mse',\n",
    "                            'mae', 'mae',\n",
    "                            'mae', 'mae'],\n",
    "                      optimizer=disc_optimizer)\n",
    "\n",
    "combined.summary()"
   ]
  },
  {
   "cell_type": "code",
   "execution_count": 16,
   "metadata": {},
   "outputs": [
    {
     "name": "stderr",
     "output_type": "stream",
     "text": [
      "/home/rostom/anaconda3/envs/model/lib/python3.6/site-packages/keras/engine/training.py:490: UserWarning: Discrepancy between trainable weights and collected trainable weights, did you set `model.trainable` without calling `model.compile` after ?\n",
      "  'Discrepancy between trainable weights and collected trainable'\n"
     ]
    }
   ],
   "source": [
    "# Adversarial loss ground truths\n",
    "# We use this since our discriminator output is a (8,8,1)\n",
    "# and this discriminator is called PatchGAN.\n",
    "\n",
    "#Actually, Its like dividing the full picture to different parts ( 8 x 8) and then make the prediction if its real\n",
    "#or fake for the different parts, and then take the mean.\n",
    "\n",
    "patch = int(128 / 2**4)\n",
    "d_patch = (patch, patch, 1)\n",
    "\n",
    "valid = np.ones((batch_size,) + d_patch)\n",
    "fake = np.zeros((batch_size,) + d_patch)\n",
    "# valid shape is ( batchsize, 8 , 8 , 1 ) and all of them are ones.\n",
    "# same for fake shape.\n",
    "\n",
    "generated_B = gen_AB.predict(batchA) #used to train Db\n",
    "generated_A = gen_BA.predict(batchB) #used to train Da\n",
    "\n",
    "# Train the discriminators (real classified as ones and generated as zeros)\n",
    "dlossA_real = discriA.train_on_batch(batchA, valid)\n",
    "dlossA_fake = discriA.train_on_batch(generated_A, fake)\n",
    "dA_loss = 0.5 * np.add(dlossA_real, dlossA_fake)\n",
    "\n",
    "dlossB_real = discriA.train_on_batch(batchB, valid)\n",
    "dlossB_fake = discriA.train_on_batch(generated_B, fake)\n",
    "dB_loss = 0.5 * np.add(dlossB_real, dlossB_fake)\n",
    "\n",
    "# Total disciminator loss\n",
    "d_loss = 0.5 * np.add(dA_loss, dB_loss)"
   ]
  },
  {
   "cell_type": "markdown",
   "metadata": {},
   "source": [
    "Then train the discriminators:"
   ]
  },
  {
   "cell_type": "code",
   "execution_count": 17,
   "metadata": {},
   "outputs": [],
   "source": [
    "g_loss = combined.train_on_batch([batchA, batchB], [valid, valid, batchB, batchA, batchA, batchB]) "
   ]
  },
  {
   "cell_type": "markdown",
   "metadata": {},
   "source": [
    "Done, we just train the whole model on one batch of picture A and one batcof picture B. Let's add some loops to wrap up eveything"
   ]
  },
  {
   "cell_type": "markdown",
   "metadata": {},
   "source": [
    "### 3.2 full train ###"
   ]
  },
  {
   "cell_type": "markdown",
   "metadata": {},
   "source": [
    "Create first the routine to save generated images:"
   ]
  },
  {
   "cell_type": "code",
   "execution_count": 18,
   "metadata": {},
   "outputs": [],
   "source": [
    "def save_images(epoch, batch):\n",
    "    r, c = 2, 3\n",
    "    \n",
    "    batchA, batchB = batch_creation(1,batch_idx)\n",
    "\n",
    "    batchA = np.asarray(batchA)\n",
    "    batchB = np.asarray(batchB)\n",
    "    \n",
    "    # Translate images to the other domain\n",
    "    fake_B = gen_AB.predict(batchA)\n",
    "    fake_A = gen_BA.predict(batchB)\n",
    "    \n",
    "    # Translate back to original domain\n",
    "    back_A = gen_BA.predict(fake_B)\n",
    "    back_B = gen_AB.predict(fake_A)\n",
    "\n",
    "    gen_imgs = np.concatenate([batchA, fake_B, back_A, batchB, fake_A, back_B])\n",
    "    \n",
    "    # Rescale images since we use a tanh at the output.\n",
    "    gen_imgs = 0.5 * gen_imgs + 0.5\n",
    "    \n",
    "    titles = ['Original', 'Translated', 'Reconstructed']\n",
    "    fig, axs = plt.subplots(r, c)\n",
    "    cnt = 0\n",
    "    for i in range(r):\n",
    "        for j in range(c):\n",
    "            axs[i,j].imshow(gen_imgs[cnt])\n",
    "            axs[i, j].set_title(titles[j])\n",
    "            axs[i,j].axis('off')\n",
    "            cnt += 1\n",
    "    fig.savefig(\"generated_shoes/%d_%d.png\" % (epoch, batch_idx))\n",
    "    plt.close()"
   ]
  },
  {
   "cell_type": "code",
   "execution_count": null,
   "metadata": {},
   "outputs": [],
   "source": [
    "batch_size = 64   \n",
    "epoch_size = 100\n",
    "num_examples = len(data)\n",
    "num_batches = int(num_examples / float(batch_size)) \n",
    "\n",
    "for epoch in range(24,epoch_size):\n",
    "    for batch_idx in range(num_batches):\n",
    "        \n",
    "        batchA, batchB = batch_creation(batch_size,batch_idx)\n",
    "        batchA = np.asarray(batchA)\n",
    "        batchB = np.asarray(batchB)\n",
    "        \n",
    "        fake_B = gen_AB.predict(batchA)\n",
    "        fake_A = gen_BA.predict(batchB)\n",
    "        \n",
    "        # Train the discriminators (real classified as ones and generated as zeros)\n",
    "        dlossA_real = discriA.train_on_batch(batchA, valid)\n",
    "        dlossA_fake = discriA.train_on_batch(fake_A, fake)\n",
    "        dA_loss = 0.5 * np.add(dlossA_real, dlossA_fake)\n",
    "\n",
    "        dlossB_real = discriA.train_on_batch(batchB, valid)\n",
    "        dlossB_fake = discriA.train_on_batch(fake_B, fake)\n",
    "        dB_loss = 0.5 * np.add(dlossB_real, dlossB_fake)\n",
    "\n",
    "        # Total disciminator loss\n",
    "        d_loss = 0.5 * np.add(dA_loss, dB_loss)\n",
    "        \n",
    "        \n",
    "        g_loss = combined.train_on_batch([batchA, batchB], [valid, valid, batchB, batchA, batchA, batchB]) \n",
    "\n",
    "        print (\"[Epoch:%d] [%d/%d], [d_loss: %f, g_loss: %f]\" % (epoch, batch_idx,\n",
    "                                                                        num_batches,\n",
    "                                                                        d_loss[0], g_loss[0]))\n",
    "        # If at save interval => save generated image samples\n",
    "        if batch_idx % 30 == 0:\n",
    "            save_images(epoch, batch_idx)"
   ]
  },
  {
   "cell_type": "markdown",
   "metadata": {},
   "source": [
    "The results after the traning are as follow : "
   ]
  },
  {
   "cell_type": "code",
   "execution_count": 5,
   "metadata": {},
   "outputs": [
    {
     "data": {
      "text/html": [
       "<img src=\"./results.png\" width=\"500\" height=\"250\"/>"
      ],
      "text/plain": [
       "<IPython.core.display.Image object>"
      ]
     },
     "execution_count": 5,
     "metadata": {},
     "output_type": "execute_result"
    }
   ],
   "source": [
    "Image(url= \"./results.png\",width=500, height=250)"
   ]
  },
  {
   "cell_type": "code",
   "execution_count": null,
   "metadata": {},
   "outputs": [],
   "source": []
  }
 ],
 "metadata": {
  "kernelspec": {
   "display_name": "rostom",
   "language": "python",
   "name": "rostom"
  },
  "language_info": {
   "codemirror_mode": {
    "name": "ipython",
    "version": 3
   },
   "file_extension": ".py",
   "mimetype": "text/x-python",
   "name": "python",
   "nbconvert_exporter": "python",
   "pygments_lexer": "ipython3",
   "version": "3.7.3"
  }
 },
 "nbformat": 4,
 "nbformat_minor": 2
}
