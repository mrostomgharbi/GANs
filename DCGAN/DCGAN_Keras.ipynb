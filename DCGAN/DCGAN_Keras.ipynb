{
 "cells": [
  {
   "cell_type": "markdown",
   "metadata": {},
   "source": [
    "<h2> <center> Deep Convolutional Generative Adversarial Networks </center> </h2>"
   ]
  },
  {
   "cell_type": "markdown",
   "metadata": {},
   "source": [
    "## GAN description : "
   ]
  },
  {
   "cell_type": "markdown",
   "metadata": {},
   "source": [
    "Basically two neural networks are competiting: a generator creates a picture, and the discriminator is trying to detect it as fake or not. We are injecting in the discrimator real picture. After a while, generator starts generating pictures close to original dataset."
   ]
  },
  {
   "cell_type": "code",
   "execution_count": 1,
   "metadata": {},
   "outputs": [
    {
     "data": {
      "text/html": [
       "<img src=\"./gan.png\" width=\"700\" height=\"450\"/>"
      ],
      "text/plain": [
       "<IPython.core.display.Image object>"
      ]
     },
     "execution_count": 1,
     "metadata": {},
     "output_type": "execute_result"
    }
   ],
   "source": [
    "from IPython.display import Image\n",
    "from IPython.core.display import HTML \n",
    "Image(url= \"./gan.png\",width=700, height=450)"
   ]
  },
  {
   "cell_type": "markdown",
   "metadata": {},
   "source": [
    "## Let's start :"
   ]
  },
  {
   "cell_type": "markdown",
   "metadata": {},
   "source": [
    "Here are the general steps I understood : \n",
    "    1. Generate few pictures with generator. This is gonna be pure random at first\n",
    "    2. Get the generated pictures and add same numbers from training set. From the created batch of picture, train the generator to discern fake from real picture.\n",
    "    3. After few steps of training, Discrimator is fixed and we create new picture in the generator, and we submit them to the discriminator. We optimize then the generator to make its pictures as real as possible.\n",
    "    4. Repeat last 3 steps, until created pictures are good quality (i.e state of equilibrium where Generator produces picture that discriminator can not discern from real picture, while discriminator one time over two find a fake picture)."
   ]
  },
  {
   "cell_type": "markdown",
   "metadata": {},
   "source": [
    "Architecture guidelines for stable DCGANs :\n",
    "1. Replace any pooling layers with strided convolutions ( discriminator ) and fractional-strided convolutions ( generator ).\n",
    "2. Use batch normalization in both the generator and the dicriminator. \n",
    "3. Remove fully connected hidden layers for deeper architectures.\n",
    "4. Use ReLU activation in the generator for all layers except for the output which uses tanh.\n",
    "5. Use LeakyReLU activation in the discriminator for all layers. "
   ]
  },
  {
   "cell_type": "markdown",
   "metadata": {},
   "source": [
    "Minimax theorem that started the game theory states that for two players in a zero-sum game the minimax solution is the same as the Nash equilibrium.\n",
    "\n",
    "In simpler terms, when two players (D and G) are competing against each other (zero-sum game), and both play optimally assuming that their opponent is optimally (minimax strategy), the outcome is predetermined and none of the players can change it (Nash equilibrium).\n",
    "So, for our networks, it means that if we train them long enough, the Generator will learn how to sample from true “distribution,” meaning that it will start generating real life-like images, and the Discriminator will not be able to tell fake ones from genuine ones."
   ]
  },
  {
   "cell_type": "markdown",
   "metadata": {},
   "source": [
    "### Different imports :"
   ]
  },
  {
   "cell_type": "code",
   "execution_count": 2,
   "metadata": {},
   "outputs": [
    {
     "name": "stderr",
     "output_type": "stream",
     "text": [
      "Using TensorFlow backend.\n"
     ]
    }
   ],
   "source": [
    "import numpy as np\n",
    "from keras.datasets import mnist\n",
    "from keras.layers import Input, Dense, Reshape, Flatten, Dropout\n",
    "from keras.layers import BatchNormalization, Activation, ZeroPadding2D\n",
    "from keras.layers.advanced_activations import LeakyReLU\n",
    "from keras.layers.convolutional import UpSampling2D, Conv2D, Conv2DTranspose\n",
    "from keras.models import Sequential, Model\n",
    "from keras.backend import resize_images\n",
    "from keras.initializers import RandomNormal\n",
    "import tqdm\n",
    "import os\n",
    "import glob\n",
    "from keras.optimizers import Adam,RMSprop\n",
    "import matplotlib.pyplot as plt\n",
    "import cv2\n",
    "%matplotlib inline\n",
    "import warnings\n",
    "warnings.simplefilter('ignore')"
   ]
  },
  {
   "cell_type": "markdown",
   "metadata": {},
   "source": [
    "### Loading Data :"
   ]
  },
  {
   "cell_type": "markdown",
   "metadata": {},
   "source": [
    "Let's get our data :"
   ]
  },
  {
   "cell_type": "code",
   "execution_count": 3,
   "metadata": {},
   "outputs": [],
   "source": [
    "(x_train, y_train),(x_test, y_test) = mnist.load_data()"
   ]
  },
  {
   "cell_type": "code",
   "execution_count": 4,
   "metadata": {},
   "outputs": [],
   "source": [
    "num_train, num_test = x_train.shape[0], x_test.shape[0]\n",
    "M = num_train + num_test\n",
    "x_all = np.zeros((M, 28, 28))\n",
    "x_all[:num_train, :, :] = x_train\n",
    "x_all[num_train:, :, :] = x_test"
   ]
  },
  {
   "cell_type": "code",
   "execution_count": 5,
   "metadata": {},
   "outputs": [],
   "source": [
    "x_final = np.zeros((M, 64, 64))\n",
    "\n",
    "for index, image in enumerate(x_all):\n",
    "    x_final[index,:,:] = cv2.resize(image, dsize=(64, 64), interpolation=cv2.INTER_CUBIC)"
   ]
  },
  {
   "cell_type": "markdown",
   "metadata": {},
   "source": [
    "### The generator : "
   ]
  },
  {
   "cell_type": "code",
   "execution_count": 6,
   "metadata": {},
   "outputs": [
    {
     "data": {
      "text/html": [
       "<img src=\"./gen_architecture.png\" width=\"700\" height=\"450\"/>"
      ],
      "text/plain": [
       "<IPython.core.display.Image object>"
      ]
     },
     "execution_count": 6,
     "metadata": {},
     "output_type": "execute_result"
    }
   ],
   "source": [
    "Image(url= \"./gen_architecture.png\",width=700, height=450)"
   ]
  },
  {
   "cell_type": "markdown",
   "metadata": {},
   "source": [
    "MNIST dataset is composed of monochrome 28x28 pixel images, so the desired shape for our input layer is [batch_size, 28, 28, 1]. \n",
    "\n",
    "To calculate output shape of deconv layer: With <b> padding = Same: H = H1 x stride </b> if <b> padding = Valid\n",
    "H = (H1-1) x stride + HF (H = output size, H1 = input size, HF = height of filter) </b>\n",
    "\n",
    "On the last layer ( conv 4 on the picture ), we will have just one filter since we are dealing with monochrome pictures. "
   ]
  },
  {
   "cell_type": "code",
   "execution_count": 7,
   "metadata": {},
   "outputs": [],
   "source": [
    "def generator():\n",
    "    \n",
    "    filter_size=[1024,512,256,128,1]\n",
    "    weight_init = RandomNormal(mean=0.0, stddev=0.02) # This is what was suggested in the paper.\n",
    "    \n",
    "    model = Sequential()\n",
    "    \n",
    "    model.add(Dense(input_dim=100, output_dim=filter_size[0]*4*4, kernel_initializer=weight_init)) \n",
    "    model.add(Activation('relu'))\n",
    "    model.add(BatchNormalization(momentum=0.9))\n",
    "    model.add(Reshape((4, 4, 1024)))  # Here the shape is (batch_size, 4, 4, 1024)\n",
    "    #------------------------------------------------------------------------------------------\n",
    "    \n",
    "    model.add(Conv2DTranspose(filters=filter_size[0], kernel_size=(5, 5), strides=(1,1), padding='same',kernel_initializer=weight_init))\n",
    "    model.add(Activation('relu'))\n",
    "    model.add(BatchNormalization(momentum=0.9)) #Output is shape (batch_size, 4, 4, 1024)\n",
    "    #------------------------------------------------------------------------------------------\n",
    "    \n",
    "    model.add(Conv2DTranspose(filters=filter_size[1], kernel_size=(5, 5), strides=(2,2), padding='same',kernel_initializer=weight_init))\n",
    "    model.add(Activation('relu'))\n",
    "    model.add(BatchNormalization(momentum=0.9)) #Output is shape (batch_size, 8, 8, 512)\n",
    "    #------------------------------------------------------------------------------------------\n",
    "\n",
    "    # 2nd layer :\n",
    "    model.add(Conv2DTranspose(filters=filter_size[2], kernel_size=(5, 5), strides=(2,2), padding='same', kernel_initializer=weight_init))\n",
    "    model.add(Activation('relu'))\n",
    "    model.add(BatchNormalization(momentum=0.9)) #Output is shape (batch_size, 16, 16, 256)\n",
    "    #------------------------------------------------------------------------------------------\n",
    "\n",
    "    # 3rd layer :\n",
    "    model.add(Conv2DTranspose(filters=filter_size[3], kernel_size=(5, 5), strides=(2,2), padding='same', kernel_initializer=weight_init))\n",
    "    model.add(Activation('relu'))\n",
    "    model.add(BatchNormalization(momentum=0.9)) #Output is shape (batch_size, 32, 32, 128)\n",
    "    #------------------------------------------------------------------------------------------\n",
    "    \n",
    "    # 5th layer :\n",
    "    model.add(Conv2DTranspose(filters=filter_size[4], kernel_size=(5, 5), strides=(2,2), padding='same', kernel_initializer=weight_init))\n",
    "    model.add(Activation('tanh'))\n",
    "    #Output is shape (batch_size, 64, 64, 1)\n",
    "    #-----------------------------------------------------------------------------------------\n",
    "\n",
    "    return model\n"
   ]
  },
  {
   "cell_type": "markdown",
   "metadata": {},
   "source": [
    "Let's test our generator and check the kind of pictures it generates :"
   ]
  },
  {
   "cell_type": "code",
   "execution_count": 8,
   "metadata": {},
   "outputs": [
    {
     "name": "stdout",
     "output_type": "stream",
     "text": [
      "3/3 [==============================] - 1s 264ms/step\n",
      "(3, 64, 64, 1)\n"
     ]
    },
    {
     "data": {
      "image/png": "[encoded data removed]",
      "text/plain": [
       "<Figure size 432x288 with 3 Axes>"
      ]
     },
     "metadata": {
      "needs_background": "light"
     },
     "output_type": "display_data"
    }
   ],
   "source": [
    "BATCH_SIZE = 3\n",
    "\n",
    "Z = np.random.uniform(-1, 1, (BATCH_SIZE, 100))\n",
    "\n",
    "gen = generator()\n",
    "gen.compile(loss='binary_crossentropy', optimizer=\"SGD\")\n",
    "generated_images = gen.predict(Z, verbose=1)\n",
    "\n",
    "print(generated_images.shape)\n",
    "plt.subplot(1, 3, 1)\n",
    "plt.imshow((generated_images[0].reshape((64,64))*255).astype(np.uint8), cmap=plt.cm.Greys )\n",
    "plt.title('Random picture 1')\n",
    "\n",
    "plt.subplot(1, 3, 2)\n",
    "plt.imshow((generated_images[1].reshape((64,64))*255).astype(np.uint8), cmap=plt.cm.Greys )\n",
    "plt.title('Random picture 2')\n",
    "    \n",
    "plt.subplot(1, 3, 3)\n",
    "plt.imshow((generated_images[2].reshape((64,64))*255).astype(np.uint8), cmap=plt.cm.Greys  )\n",
    "plt.title('Random picture 3')\n",
    "\n",
    "plt.show() "
   ]
  },
  {
   "cell_type": "markdown",
   "metadata": {},
   "source": [
    "### The discriminator : "
   ]
  },
  {
   "cell_type": "markdown",
   "metadata": {},
   "source": [
    "Basically, this is the opposite of our generator. From a 64x64 picture, we will use the convnet to output a number between 0 and 1 ( sigmoid ? ). "
   ]
  },
  {
   "cell_type": "code",
   "execution_count": 9,
   "metadata": {},
   "outputs": [
    {
     "data": {
      "text/html": [
       "<img src=\"./discriminator.png\" width=\"700\" height=\"450\"/>"
      ],
      "text/plain": [
       "<IPython.core.display.Image object>"
      ]
     },
     "execution_count": 9,
     "metadata": {},
     "output_type": "execute_result"
    }
   ],
   "source": [
    "Image(url= \"./discriminator.png\",width=700, height=450)"
   ]
  },
  {
   "cell_type": "markdown",
   "metadata": {},
   "source": [
    "As a reminder, the ouput size of a convolutional layer is $\\frac{n+2p-f}{s}+1 $ (n= input shape, p = padding, s = stride, f= filter size). \n",
    "Padding shape is:\n",
    "* \"Valid\" : n-f+1\n",
    "* \"Same\" : $p=\\frac{f-1}{2}$ ; n + 2p -f +1\n",
    "\n",
    "There is no common rules regarding, the filter size, just a 2^n size. If I keep same kernel size as the generator, I will end up with 2x2x1024 as output of the last conv layer. This is maybe not good, but let's try."
   ]
  },
  {
   "cell_type": "code",
   "execution_count": 10,
   "metadata": {},
   "outputs": [],
   "source": [
    "def discriminator():\n",
    "    \n",
    "    filter_size=[128,256,512,1024]\n",
    "    weight_init = RandomNormal(mean=0.0, stddev=0.02) # As suggested in paper\n",
    "    \n",
    "    in_shape = (64, 64, 1)\n",
    "    model = Sequential()\n",
    "    \n",
    "    model.add(Conv2D(filters=filter_size[0], kernel_size=(5, 5), strides=(2,2), padding='same',input_shape=in_shape,kernel_initializer=weight_init))\n",
    "    model.add(LeakyReLU(alpha=0.01))\n",
    "    # ouput size 32 x 32 x 128\n",
    "    #----------------------------------------------------------------------------------------------------\n",
    "    \n",
    "    model.add(Conv2D(filters=filter_size[0], kernel_size=(5, 5), strides=(2,2), padding='same',kernel_initializer=weight_init))\n",
    "    model.add(LeakyReLU(alpha=0.01))\n",
    "    model.add(BatchNormalization(momentum=0.9)) \n",
    "    #ouput size 16 x 16 x 128\n",
    "    #----------------------------------------------------------------------------------------------------\n",
    "\n",
    "    model.add(Conv2D(filters=filter_size[1], kernel_size=(5, 5), strides=(2,2), padding='same',kernel_initializer=weight_init))\n",
    "    model.add(LeakyReLU(alpha=0.01))\n",
    "    model.add(BatchNormalization(momentum=0.9)) \n",
    "    # output size is 8 x 8 x 256\n",
    "    #----------------------------------------------------------------------------------------------------\n",
    "    \n",
    "    model.add(Conv2D(filters=filter_size[2], kernel_size=(5, 5), strides=(2,2), padding='same',kernel_initializer=weight_init))\n",
    "    model.add(LeakyReLU(alpha=0.01))\n",
    "    model.add(BatchNormalization(momentum=0.9)) \n",
    "    # output size is 4 x 4 x 512\n",
    "    #----------------------------------------------------------------------------------------------------\n",
    "\n",
    "    model.add(Conv2D(filters=filter_size[3], kernel_size=(5, 5), strides=(2,2), padding='same',kernel_initializer=weight_init))\n",
    "    model.add(LeakyReLU(alpha=0.01))\n",
    "    model.add(BatchNormalization(momentum=0.9)) \n",
    "    # output size is 2 x 2 x 1024\n",
    "    #----------------------------------------------------------------------------------------------------\n",
    "\n",
    "    #Before we connect the layer, however, we'll flatten our feature map (conv_4) to shape [batch_size, features],\n",
    "    #so that our tensor has only two dimensions:\n",
    "    model.add(Flatten()) # output is 4096\n",
    "    model.add(Dense(1))\n",
    "    model.add(Activation('sigmoid'))\n",
    "    \n",
    "    return model"
   ]
  },
  {
   "cell_type": "code",
   "execution_count": 11,
   "metadata": {},
   "outputs": [
    {
     "name": "stdout",
     "output_type": "stream",
     "text": [
      "1/1 [==============================] - 0s 181ms/step\n",
      "[[0.49980718]]\n"
     ]
    }
   ],
   "source": [
    "in1 = np.random.uniform(-1.0,1.0,[1, 64,64])\n",
    "random_picture = np.reshape(in1, (1, 64, 64, -1))\n",
    "\n",
    "discri = discriminator()\n",
    "discri.compile(loss='binary_crossentropy',optimizer='adam') \n",
    "return_label = discri.predict(random_picture, verbose=1)\n",
    "print(return_label)"
   ]
  },
  {
   "cell_type": "markdown",
   "metadata": {},
   "source": [
    "PERFECT ! "
   ]
  },
  {
   "cell_type": "markdown",
   "metadata": {},
   "source": [
    "## Train the model :"
   ]
  },
  {
   "cell_type": "markdown",
   "metadata": {},
   "source": [
    "Now, we enter the real GAN mechanism. As a reminder we currently have a generator and a disriminator. The question is, how to handle the complete GAN process ? Here are the main steps:\n",
    "\n",
    "1. Generate a batch of fake images with the Generator\n",
    "2. Train the discriminator mixing the batch of fake image + a same number of real image. We also add the label <b>0=fake, 1=real</b>. Optimize the weight of Discriminator network.\n",
    "3. Generate picture with the generator, infere them in the discriminator network and improve the genrator network.\n"
   ]
  },
  {
   "cell_type": "markdown",
   "metadata": {},
   "source": [
    "#### Generate a batch of images :"
   ]
  },
  {
   "cell_type": "code",
   "execution_count": 12,
   "metadata": {},
   "outputs": [
    {
     "name": "stdout",
     "output_type": "stream",
     "text": [
      "128/128 [==============================] - 0s 3ms/step\n",
      "(128, 64, 64, 1)\n"
     ]
    }
   ],
   "source": [
    "batch_size = 128\n",
    "\n",
    "Z = np.random.uniform(-1, 1, (batch_size, 100))\n",
    "gen = generator()\n",
    "gen.compile(loss='binary_crossentropy', optimizer=\"adam\")\n",
    "generated_images = gen.predict(Z, verbose=1)\n",
    "\n",
    "print(generated_images.shape)"
   ]
  },
  {
   "cell_type": "code",
   "execution_count": 13,
   "metadata": {},
   "outputs": [
    {
     "data": {
      "text/plain": [
       "(128, 100)"
      ]
     },
     "execution_count": 13,
     "metadata": {},
     "output_type": "execute_result"
    }
   ],
   "source": [
    "Z.shape"
   ]
  },
  {
   "cell_type": "markdown",
   "metadata": {},
   "source": [
    "#### Train the discriminator :"
   ]
  },
  {
   "cell_type": "markdown",
   "metadata": {},
   "source": [
    "First, we are going to train the discriminator:\n",
    "* when receiving real images, the discriminator should learn to compute high values (near 1), meaning that it is confident the input images are real\n",
    "* when receiving fake images, it should compute low values (near 0), meaning it is confident the input images are not real\n"
   ]
  },
  {
   "cell_type": "markdown",
   "metadata": {},
   "source": [
    "Prepare the Mnist dataset to feed the batch:"
   ]
  },
  {
   "cell_type": "code",
   "execution_count": 14,
   "metadata": {},
   "outputs": [],
   "source": [
    "def data_tensor(X):\n",
    "    '''\n",
    "    numpy_data: (M, 28, 28), values in range [0, 255]\n",
    "    returns: tensor of images shaped [M, 64, 64, 1], with values in range [-1, 1]\n",
    "    '''\n",
    "    \n",
    "    X = np.expand_dims(X, axis=3) # add a dimension for number of chanel, here gray images, so only one chanel of 255 possibilities\n",
    "\n",
    "    # The data is currently in a range [0, 255].\n",
    "    # Transform data to have a range [-1, 1].\n",
    "    # We do this to match the range of tanh, the activation on the generator's output layer.\n",
    "    X = np.array(X)\n",
    "    X = X / 128.\n",
    "    X = X - 1.\n",
    "    return X"
   ]
  },
  {
   "cell_type": "markdown",
   "metadata": {},
   "source": [
    "#### Combined models : "
   ]
  },
  {
   "cell_type": "markdown",
   "metadata": {},
   "source": [
    "To train the generator, we need to know the discriminator loss, so let's build a combined model which is just the genrator and then the denominator"
   ]
  },
  {
   "cell_type": "code",
   "execution_count": 15,
   "metadata": {},
   "outputs": [],
   "source": [
    "def stacked_model(g, d):\n",
    "    model = Sequential()\n",
    "    model.add(g)\n",
    "    d.trainable = False\n",
    "    model.add(d)\n",
    "    return model"
   ]
  },
  {
   "cell_type": "markdown",
   "metadata": {},
   "source": [
    "Notice that we’re setting the discriminator’s training attribute to False before building the model. This means that for this model we will not be updating the weights of the discriminator during backpropagation. We will freeze these weights and only move the generator weights with the stack. The discriminator will be trained separately. Let's compile the models with the correct optimizer:"
   ]
  },
  {
   "cell_type": "code",
   "execution_count": 16,
   "metadata": {},
   "outputs": [],
   "source": [
    "gen_optimizer = Adam(lr=0.0002, beta_1=0.5)\n",
    "disc_optimizer = Adam(lr=0.0002, beta_1=0.5)\n",
    "# As suggedted in the paper.\n",
    "\n",
    "gen = generator()\n",
    "discri = discriminator()\n",
    "\n",
    "discri.compile(loss='binary_crossentropy', optimizer=disc_optimizer, metrics=['accuracy'])\n",
    "gen.compile(loss='binary_crossentropy', optimizer=gen_optimizer)\n",
    "\n",
    "combined = stacked_model(gen,discri)\n",
    "combined.compile(loss='binary_crossentropy', optimizer=gen_optimizer)"
   ]
  },
  {
   "cell_type": "markdown",
   "metadata": {},
   "source": [
    "Notice that beta_1 = 0.5. This is a recommendation from the original DCGAN paper that we’ve carried forward and also had success with. A learning rate of 0.0002 is a good place to start, also recommended by DCGAN paper."
   ]
  },
  {
   "cell_type": "code",
   "execution_count": 17,
   "metadata": {},
   "outputs": [
    {
     "name": "stdout",
     "output_type": "stream",
     "text": [
      "_________________________________________________________________\n",
      "Layer (type)                 Output Shape              Param #   \n",
      "=================================================================\n",
      "sequential_4 (Sequential)    (None, 64, 64, 1)         45150721  \n",
      "_________________________________________________________________\n",
      "sequential_5 (Sequential)    (None, 1)                 17629825  \n",
      "=================================================================\n",
      "Total params: 62,780,546\n",
      "Trainable params: 45,114,113\n",
      "Non-trainable params: 17,666,433\n",
      "_________________________________________________________________\n"
     ]
    }
   ],
   "source": [
    "combined.summary()"
   ]
  },
  {
   "cell_type": "markdown",
   "metadata": {},
   "source": [
    "#### Train the model on a simple batch :"
   ]
  },
  {
   "cell_type": "markdown",
   "metadata": {},
   "source": [
    "Just to simply understand. Let's train it first on only one batch (X) of 64 real picture and 64 fake pictures and their corresponding labels."
   ]
  },
  {
   "cell_type": "code",
   "execution_count": 18,
   "metadata": {},
   "outputs": [
    {
     "name": "stdout",
     "output_type": "stream",
     "text": [
      "(64, 64, 64, 1)\n"
     ]
    }
   ],
   "source": [
    "batch_size = 64\n",
    "\n",
    "# creating 64 fake images and 64 real images\n",
    "noise = np.random.normal(0, 1, (batch_size, 100))\n",
    "\n",
    "fake_images = gen.predict(noise)\n",
    "fake_labels = np.zeros((64, 1))\n",
    "\n",
    "image_batch = x_final[0:64]\n",
    "real_images = data_tensor(image_batch)\n",
    "\n",
    "real_labels = np.ones((64, 1))\n",
    "\n",
    "print(real_images.shape)"
   ]
  },
  {
   "cell_type": "code",
   "execution_count": 19,
   "metadata": {},
   "outputs": [],
   "source": [
    "# Train the discriminator (real classified as ones and generated as zeros)\n",
    "d_loss_real = discri.train_on_batch(real_images, real_labels)\n",
    "d_loss_fake = discri.train_on_batch(fake_images, fake_labels)"
   ]
  },
  {
   "cell_type": "markdown",
   "metadata": {},
   "source": [
    "Discriminator model has updated its weights, thanks to the real images and fake images. The model is theoritically better at discerning fake from real images."
   ]
  },
  {
   "cell_type": "code",
   "execution_count": 20,
   "metadata": {},
   "outputs": [
    {
     "data": {
      "text/plain": [
       "array([2.4475303, 0.34375  ], dtype=float32)"
      ]
     },
     "execution_count": 20,
     "metadata": {},
     "output_type": "execute_result"
    }
   ],
   "source": [
    "d_loss = 0.5 * np.add(d_loss_real, d_loss_fake)\n",
    "d_loss"
   ]
  },
  {
   "cell_type": "code",
   "execution_count": 21,
   "metadata": {},
   "outputs": [
    {
     "name": "stdout",
     "output_type": "stream",
     "text": [
      "[D loss: 2.447530, acc.: 34.38%] [G loss: 1.729178]\n"
     ]
    }
   ],
   "source": [
    "noise = np.random.normal(0, 1, (batch_size, 100))\n",
    "\n",
    "# Train the generator with fake images, pretending this is real ones.\n",
    "g_loss = combined.train_on_batch(noise, np.ones((64, 1)))\n",
    "\n",
    "# Plot the progress\n",
    "print(\"[D loss: %f, acc.: %.2f%%] [G loss: %f]\" %( d_loss[0], 100 * d_loss[1], g_loss))"
   ]
  },
  {
   "cell_type": "code",
   "execution_count": 22,
   "metadata": {},
   "outputs": [
    {
     "data": {
      "text/plain": [
       "(64, 100)"
      ]
     },
     "execution_count": 22,
     "metadata": {},
     "output_type": "execute_result"
    }
   ],
   "source": [
    "noise.shape"
   ]
  },
  {
   "cell_type": "markdown",
   "metadata": {},
   "source": [
    "#### Let's go far and undrestand the theory behind this loss :"
   ]
  },
  {
   "cell_type": "markdown",
   "metadata": {},
   "source": [
    "The discriminator’s loss function is the cross entropy loss function. To understand this, let’s suppose we’re doing some binary classification with some trainable function D that we wish to optimize, where D\n",
    "D indicates the estimated probability of some data point $x_{i}$ being in the first class. To get the predicted probability of being in the second class, we just do 1-D($x_{i}$).\n",
    "\n",
    "The cross entropy between two distributions, which we’ll call p and q, is defined as:\n",
    "\n",
    "$H(p,q) = - \\sum(p_{i} log(q_{i})$\n",
    "\n",
    "To apply this loss function to the current binary classification task, we define the true distribution as $P[y_{i}=0]=1$ if $y_{i}=0$ and $P[y_{i}=1]=1$ if $y_{i}=1$\n",
    "\n",
    "Thus, for one data point x1 and its label, we get the following loss function:\n",
    "\n",
    "$H(x1,y1) = -y1.log(D(x1)-(1-y1)log(1-D(x1))$\n",
    "\n",
    "Let’s look at the above function. Notice that only one of the two terms is going to be zero, depending on the value of y1 , which makes sense since it’s defining a distribution which is either [0,1] or [1,0].\n",
    "\n",
    "\n",
    "Have a look here https://danieltakeshi.github.io/2017/03/05/understanding-generative-adversarial-networks/"
   ]
  },
  {
   "cell_type": "markdown",
   "metadata": {},
   "source": [
    "#### Full model training :"
   ]
  },
  {
   "cell_type": "code",
   "execution_count": 23,
   "metadata": {},
   "outputs": [],
   "source": [
    "import scipy.misc\n",
    "def save_imgs(generator, epoch, batch):\n",
    "    \n",
    "    r, c = 5, 5\n",
    "    \n",
    "    noise = np.random.normal(0, 1, (r * c, 100))\n",
    "    \n",
    "    gen_imgs = generator.predict(noise)\n",
    "    \n",
    "    gen_imgs = 0.5 * gen_imgs + 0.5\n",
    "\n",
    "    fig, axs = plt.subplots(r, c)\n",
    "    cnt = 0\n",
    "    for i in range(r):\n",
    "        for j in range(c):\n",
    "            axs[i, j].imshow(gen_imgs[cnt, :, :, 0], cmap='gray')\n",
    "            axs[i, j].axis('off')\n",
    "            cnt += 1\n",
    "            \n",
    "    fig.savefig(\"images/mnist_%d_%d\"%(epoch, batch))"
   ]
  },
  {
   "cell_type": "code",
   "execution_count": null,
   "metadata": {
    "scrolled": true
   },
   "outputs": [],
   "source": [
    "batch_size = 128 # As suggested in the paper.\n",
    "epochs = 50\n",
    "\n",
    "\n",
    "x_final = np.array(x_final)\n",
    "num_examples = x_final.shape[0] \n",
    "num_batches = int(num_examples / float(batch_size)) \n",
    "half_batch = int(batch_size / 2) \n",
    "\n",
    "\n",
    "noise = np.random.normal(0, 1, (64, 100))\n",
    "# Train the generator with fake images, pretending this is real ones.\n",
    "g_loss = combined.train_on_batch(noise, np.ones((64, 1)))\n",
    "# Plot the progress\n",
    "print(\"[D loss: %f, acc.: %.2f%%] [G loss: %f]\" %( d_loss[0], 100 * d_loss[1], g_loss))\n",
    "\n",
    "\n",
    "for epoch in range(epochs + 1):\n",
    "    for batch in range(num_batches):\n",
    "    # creating the real and fake picture for this batch\n",
    "        noise = np.random.normal(0, 1, (half_batch, 100))\n",
    "        \n",
    "        fake_images = gen.predict(noise)\n",
    "        fake_labels = np.zeros((half_batch, 1))\n",
    "\n",
    "        image_batch = x_final[batch*half_batch:batch*half_batch+half_batch]\n",
    "        real_images=data_tensor(image_batch)\n",
    "        real_labels = np.ones((half_batch, 1))\n",
    "        \n",
    "     # train the discriminator on both real and fake images\n",
    "        d_loss_real = discri.train_on_batch(real_images, real_labels)\n",
    "        d_loss_fake = discri.train_on_batch(fake_images, fake_labels)\n",
    "        d_loss = 0.5 * np.add(d_loss_real, d_loss_fake)\n",
    "        \n",
    "    # train the generator\n",
    "        noise = np.random.normal(0, 1, (half_batch, 100))\n",
    "        # Train the generator with fake images, pretending this is real ones.\n",
    "        g_loss = combined.train_on_batch(noise, np.ones((half_batch, 1)))\n",
    "            \n",
    "        \n",
    "        print(\"Epoch %d Batch %d/%d [D loss: %f, acc.: %.2f%%] [G loss: %f]\" % (epoch,batch, num_batches, d_loss[0], 100 * d_loss[1], g_loss))\n",
    "        if batch % 50 == 0:\n",
    "            save_imgs(gen, epoch, batch)"
   ]
  },
  {
   "cell_type": "markdown",
   "metadata": {},
   "source": [
    "GREAT CODE ABOUT DCGAN : https://github.com/jacobgil/keras-dcgan/blob/master/dcgan.py"
   ]
  },
  {
   "cell_type": "code",
   "execution_count": 43,
   "metadata": {},
   "outputs": [
    {
     "data": {
      "text/html": [
       "<img src=\"./animation.gif\" width=\"700\" height=\"450\"/>"
      ],
      "text/plain": [
       "<IPython.core.display.Image object>"
      ]
     },
     "execution_count": 43,
     "metadata": {},
     "output_type": "execute_result"
    }
   ],
   "source": [
    "Image(url= \"./animation.gif\",width=700, height=450)"
   ]
  }
 ],
 "metadata": {
  "kernelspec": {
   "display_name": "model-tf",
   "language": "python",
   "name": "model"
  },
  "language_info": {
   "codemirror_mode": {
    "name": "ipython",
    "version": 3
   },
   "file_extension": ".py",
   "mimetype": "text/x-python",
   "name": "python",
   "nbconvert_exporter": "python",
   "pygments_lexer": "ipython3",
   "version": "3.6.8"
  }
 },
 "nbformat": 4,
 "nbformat_minor": 2
}
